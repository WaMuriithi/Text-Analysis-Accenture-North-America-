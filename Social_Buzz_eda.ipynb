{
 "cells": [
  {
   "cell_type": "code",
   "execution_count": 1,
   "id": "e42cf238",
   "metadata": {},
   "outputs": [],
   "source": [
    "# Import libraries\n",
    "import pandas as pd\n",
    "import numpy as np\n",
    "import matplotlib.pyplot as plt\n",
    "import seaborn as sns\n"
   ]
  },
  {
   "cell_type": "markdown",
   "id": "a97a8c5c",
   "metadata": {},
   "source": [
    "## Data Cleaning"
   ]
  },
  {
   "cell_type": "markdown",
   "id": "d4ad010f",
   "metadata": {},
   "source": [
    "### Content Data set"
   ]
  },
  {
   "cell_type": "code",
   "execution_count": 2,
   "id": "d6a6610d",
   "metadata": {},
   "outputs": [],
   "source": [
    "# Load Content data set\n",
    "\n",
    "content = pd.read_csv(r\"C:\\Users\\user\\Downloads\\Content.csv\")"
   ]
  },
  {
   "cell_type": "code",
   "execution_count": 3,
   "id": "9231b525",
   "metadata": {},
   "outputs": [
    {
     "data": {
      "text/plain": [
       "(1000, 6)"
      ]
     },
     "execution_count": 3,
     "metadata": {},
     "output_type": "execute_result"
    }
   ],
   "source": [
    "# Explore data set\n",
    "\n",
    "content.shape"
   ]
  },
  {
   "cell_type": "code",
   "execution_count": 4,
   "id": "5fc3bcac",
   "metadata": {},
   "outputs": [
    {
     "data": {
      "text/html": [
       "<div>\n",
       "<style scoped>\n",
       "    .dataframe tbody tr th:only-of-type {\n",
       "        vertical-align: middle;\n",
       "    }\n",
       "\n",
       "    .dataframe tbody tr th {\n",
       "        vertical-align: top;\n",
       "    }\n",
       "\n",
       "    .dataframe thead th {\n",
       "        text-align: right;\n",
       "    }\n",
       "</style>\n",
       "<table border=\"1\" class=\"dataframe\">\n",
       "  <thead>\n",
       "    <tr style=\"text-align: right;\">\n",
       "      <th></th>\n",
       "      <th>Unnamed: 0</th>\n",
       "      <th>Content ID</th>\n",
       "      <th>User ID</th>\n",
       "      <th>Type</th>\n",
       "      <th>Category</th>\n",
       "      <th>URL</th>\n",
       "    </tr>\n",
       "  </thead>\n",
       "  <tbody>\n",
       "    <tr>\n",
       "      <th>0</th>\n",
       "      <td>0</td>\n",
       "      <td>97522e57-d9ab-4bd6-97bf-c24d952602d2</td>\n",
       "      <td>8d3cd87d-8a31-4935-9a4f-b319bfe05f31</td>\n",
       "      <td>photo</td>\n",
       "      <td>Studying</td>\n",
       "      <td>https://socialbuzz.cdn.com/content/storage/975...</td>\n",
       "    </tr>\n",
       "    <tr>\n",
       "      <th>1</th>\n",
       "      <td>1</td>\n",
       "      <td>9f737e0a-3cdd-4d29-9d24-753f4e3be810</td>\n",
       "      <td>beb1f34e-7870-46d6-9fc7-2e12eb83ce43</td>\n",
       "      <td>photo</td>\n",
       "      <td>healthy eating</td>\n",
       "      <td>https://socialbuzz.cdn.com/content/storage/9f7...</td>\n",
       "    </tr>\n",
       "    <tr>\n",
       "      <th>2</th>\n",
       "      <td>2</td>\n",
       "      <td>230c4e4d-70c3-461d-b42c-ec09396efb3f</td>\n",
       "      <td>a5c65404-5894-4b87-82f2-d787cbee86b4</td>\n",
       "      <td>photo</td>\n",
       "      <td>healthy eating</td>\n",
       "      <td>https://socialbuzz.cdn.com/content/storage/230...</td>\n",
       "    </tr>\n",
       "    <tr>\n",
       "      <th>3</th>\n",
       "      <td>3</td>\n",
       "      <td>356fff80-da4d-4785-9f43-bc1261031dc6</td>\n",
       "      <td>9fb4ce88-fac1-406c-8544-1a899cee7aaf</td>\n",
       "      <td>photo</td>\n",
       "      <td>technology</td>\n",
       "      <td>https://socialbuzz.cdn.com/content/storage/356...</td>\n",
       "    </tr>\n",
       "    <tr>\n",
       "      <th>4</th>\n",
       "      <td>4</td>\n",
       "      <td>01ab84dd-6364-4236-abbb-3f237db77180</td>\n",
       "      <td>e206e31b-5f85-4964-b6ea-d7ee5324def1</td>\n",
       "      <td>video</td>\n",
       "      <td>food</td>\n",
       "      <td>https://socialbuzz.cdn.com/content/storage/01a...</td>\n",
       "    </tr>\n",
       "  </tbody>\n",
       "</table>\n",
       "</div>"
      ],
      "text/plain": [
       "   Unnamed: 0                            Content ID  \\\n",
       "0           0  97522e57-d9ab-4bd6-97bf-c24d952602d2   \n",
       "1           1  9f737e0a-3cdd-4d29-9d24-753f4e3be810   \n",
       "2           2  230c4e4d-70c3-461d-b42c-ec09396efb3f   \n",
       "3           3  356fff80-da4d-4785-9f43-bc1261031dc6   \n",
       "4           4  01ab84dd-6364-4236-abbb-3f237db77180   \n",
       "\n",
       "                                User ID   Type        Category  \\\n",
       "0  8d3cd87d-8a31-4935-9a4f-b319bfe05f31  photo        Studying   \n",
       "1  beb1f34e-7870-46d6-9fc7-2e12eb83ce43  photo  healthy eating   \n",
       "2  a5c65404-5894-4b87-82f2-d787cbee86b4  photo  healthy eating   \n",
       "3  9fb4ce88-fac1-406c-8544-1a899cee7aaf  photo      technology   \n",
       "4  e206e31b-5f85-4964-b6ea-d7ee5324def1  video            food   \n",
       "\n",
       "                                                 URL  \n",
       "0  https://socialbuzz.cdn.com/content/storage/975...  \n",
       "1  https://socialbuzz.cdn.com/content/storage/9f7...  \n",
       "2  https://socialbuzz.cdn.com/content/storage/230...  \n",
       "3  https://socialbuzz.cdn.com/content/storage/356...  \n",
       "4  https://socialbuzz.cdn.com/content/storage/01a...  "
      ]
     },
     "execution_count": 4,
     "metadata": {},
     "output_type": "execute_result"
    }
   ],
   "source": [
    "# View first 5 columns\n",
    "\n",
    "content.head()"
   ]
  },
  {
   "cell_type": "code",
   "execution_count": 5,
   "id": "5caa452b",
   "metadata": {},
   "outputs": [
    {
     "data": {
      "text/plain": [
       "Index(['Unnamed: 0', 'Content ID', 'User ID', 'Type', 'Category', 'URL'], dtype='object')"
      ]
     },
     "execution_count": 5,
     "metadata": {},
     "output_type": "execute_result"
    }
   ],
   "source": [
    "# View columns\n",
    "\n",
    "content.columns"
   ]
  },
  {
   "cell_type": "code",
   "execution_count": 6,
   "id": "5bf01e1f",
   "metadata": {},
   "outputs": [
    {
     "data": {
      "text/plain": [
       "Content ID\n",
       "97522e57-d9ab-4bd6-97bf-c24d952602d2    1\n",
       "d0c1d7f4-7735-49a9-ab6b-2cdb2338a609    1\n",
       "22cdf77b-00c8-41c3-ad59-333c3e751e2c    1\n",
       "28b8c278-a125-4295-98dd-5f8d45c3200b    1\n",
       "e1792fe6-28e0-49fc-8b01-0e027461d8b5    1\n",
       "                                       ..\n",
       "16fb5dcb-4349-4831-acf2-8c116ad7dae5    1\n",
       "0d5eb9fd-879d-4716-aebc-840f7b1b7e9f    1\n",
       "e4827a5c-c604-4aad-b7ed-b396b3601b74    1\n",
       "abecd821-ad3d-43b0-a550-aadd9d267072    1\n",
       "75d6b589-7fae-4a6d-b0d0-752845150e56    1\n",
       "Name: count, Length: 1000, dtype: int64"
      ]
     },
     "execution_count": 6,
     "metadata": {},
     "output_type": "execute_result"
    }
   ],
   "source": [
    "# Check value counts for columns\n",
    "# Content Id\n",
    "\n",
    "content['Content ID'].value_counts()\n",
    "\n",
    "# Column is unique hence can be used as index or merging column or dropped\n",
    "# if User ID takes precedence"
   ]
  },
  {
   "cell_type": "code",
   "execution_count": 7,
   "id": "99d07b9a",
   "metadata": {},
   "outputs": [
    {
     "data": {
      "text/plain": [
       "Type\n",
       "photo    261\n",
       "video    259\n",
       "GIF      244\n",
       "audio    236\n",
       "Name: count, dtype: int64"
      ]
     },
     "execution_count": 7,
     "metadata": {},
     "output_type": "execute_result"
    }
   ],
   "source": [
    "# Type column\n",
    "\n",
    "content['Type'].value_counts()"
   ]
  },
  {
   "cell_type": "code",
   "execution_count": 8,
   "id": "0c8073af",
   "metadata": {
    "scrolled": false
   },
   "outputs": [
    {
     "data": {
      "text/plain": [
       "Category\n",
       "technology           71\n",
       "animals              67\n",
       "travel               67\n",
       "culture              63\n",
       "science              63\n",
       "fitness              61\n",
       "food                 61\n",
       "healthy eating       61\n",
       "cooking              60\n",
       "soccer               58\n",
       "tennis               58\n",
       "education            57\n",
       "dogs                 56\n",
       "studying             55\n",
       "veganism             48\n",
       "public speaking      48\n",
       "Fitness               5\n",
       "Animals               4\n",
       "Science               4\n",
       "\"soccer\"              3\n",
       "\"culture\"             3\n",
       "Soccer                3\n",
       "\"dogs\"                2\n",
       "Education             2\n",
       "Studying              2\n",
       "Travel                2\n",
       "Food                  2\n",
       "\"veganism\"            1\n",
       "\"public speaking\"     1\n",
       "Public Speaking       1\n",
       "\"technology\"          1\n",
       "\"cooking\"             1\n",
       "Healthy Eating        1\n",
       "\"studying\"            1\n",
       "\"food\"                1\n",
       "Culture               1\n",
       "\"tennis\"              1\n",
       "Technology            1\n",
       "\"animals\"             1\n",
       "Veganism              1\n",
       "\"science\"             1\n",
       "Name: count, dtype: int64"
      ]
     },
     "execution_count": 8,
     "metadata": {},
     "output_type": "execute_result"
    }
   ],
   "source": [
    "# Category column\n",
    "\n",
    "content['Category'].value_counts()\n",
    "\n",
    "# Category types are dirty. Will need cleaning to ensure uniformity"
   ]
  },
  {
   "cell_type": "code",
   "execution_count": 9,
   "id": "30082621",
   "metadata": {},
   "outputs": [],
   "source": [
    "# Rename Categories for uniformity\n",
    "\n",
    "content.replace({\n",
    "        'Studying':'studying', 'healthy eating':'healthy_eating','Science':'science', \n",
    "        'public speaking':'public_speaking', 'Animals':'animals',\n",
    "        '\"culture\"':'culture', 'Fitness':'fitness', '\"studying\"':'studying',\n",
    "       'Veganism':'veganism', '\"animals\"':'animals', 'Travel':'travel', '\"soccer\"':'soccer', \n",
    "        'Education':'education', '\"dogs\"':'dogs', 'Technology':'technology', 'Soccer':'soccer', \n",
    "        '\"tennis\"':'tennis', 'Culture':'culture', '\"food\"':'food','Food':'food', \n",
    "        '\"technology\"':'technology', 'Healthy Eating':'healthy_eating', '\"cooking\"':'cooking', \n",
    "        '\"public speaking\"':'public_speaking', '\"veganism\"':'veganism', \n",
    "        'Public Speaking':'public_speaking', '\"science\"':'science'\n",
    "}, inplace = True)"
   ]
  },
  {
   "cell_type": "code",
   "execution_count": 10,
   "id": "24ca0365",
   "metadata": {},
   "outputs": [
    {
     "name": "stdout",
     "output_type": "stream",
     "text": [
      "<class 'pandas.core.frame.DataFrame'>\n",
      "RangeIndex: 1000 entries, 0 to 999\n",
      "Data columns (total 6 columns):\n",
      " #   Column      Non-Null Count  Dtype \n",
      "---  ------      --------------  ----- \n",
      " 0   Unnamed: 0  1000 non-null   int64 \n",
      " 1   Content ID  1000 non-null   object\n",
      " 2   User ID     1000 non-null   object\n",
      " 3   Type        1000 non-null   object\n",
      " 4   Category    1000 non-null   object\n",
      " 5   URL         801 non-null    object\n",
      "dtypes: int64(1), object(5)\n",
      "memory usage: 47.0+ KB\n"
     ]
    }
   ],
   "source": [
    "# View attributes info\n",
    "\n",
    "content.info()"
   ]
  },
  {
   "cell_type": "code",
   "execution_count": 11,
   "id": "ad4784d6",
   "metadata": {},
   "outputs": [],
   "source": [
    "# Remove unnecessary columns\n",
    "\n",
    "# 1. Unnamed column looks like a duplicate index \n",
    "# 2. URL will not be necessary to the analysis. Removal will also clear null values.\n",
    "\n",
    "content_df = content.drop(['Unnamed: 0','User ID', 'URL'], axis = 1)"
   ]
  },
  {
   "cell_type": "code",
   "execution_count": 12,
   "id": "13696daf",
   "metadata": {},
   "outputs": [],
   "source": [
    "# Rename columns to align with Python conventions. Rename Type to content_type for clarity\n",
    "\n",
    "content_df = content_df.rename(columns={'Content ID':'content_id', \n",
    "                                        'Type':'content_type', 'Category':'category'})\n"
   ]
  },
  {
   "cell_type": "markdown",
   "id": "6ad995dc",
   "metadata": {},
   "source": [
    "### Reactions Data set"
   ]
  },
  {
   "cell_type": "code",
   "execution_count": 14,
   "id": "03ca970f",
   "metadata": {},
   "outputs": [],
   "source": [
    "# Load Reactions data set\n",
    "\n",
    "reactions = pd.read_csv(r\"C:\\Users\\user\\Downloads\\Reactions.csv\")\n"
   ]
  },
  {
   "cell_type": "code",
   "execution_count": 15,
   "id": "f15d004c",
   "metadata": {},
   "outputs": [
    {
     "data": {
      "text/plain": [
       "(25553, 5)"
      ]
     },
     "execution_count": 15,
     "metadata": {},
     "output_type": "execute_result"
    }
   ],
   "source": [
    "# Explore shape\n",
    "\n",
    "reactions.shape"
   ]
  },
  {
   "cell_type": "code",
   "execution_count": 16,
   "id": "dacd26f0",
   "metadata": {},
   "outputs": [
    {
     "data": {
      "text/html": [
       "<div>\n",
       "<style scoped>\n",
       "    .dataframe tbody tr th:only-of-type {\n",
       "        vertical-align: middle;\n",
       "    }\n",
       "\n",
       "    .dataframe tbody tr th {\n",
       "        vertical-align: top;\n",
       "    }\n",
       "\n",
       "    .dataframe thead th {\n",
       "        text-align: right;\n",
       "    }\n",
       "</style>\n",
       "<table border=\"1\" class=\"dataframe\">\n",
       "  <thead>\n",
       "    <tr style=\"text-align: right;\">\n",
       "      <th></th>\n",
       "      <th>Unnamed: 0</th>\n",
       "      <th>Content ID</th>\n",
       "      <th>User ID</th>\n",
       "      <th>Type</th>\n",
       "      <th>Datetime</th>\n",
       "    </tr>\n",
       "  </thead>\n",
       "  <tbody>\n",
       "    <tr>\n",
       "      <th>0</th>\n",
       "      <td>0</td>\n",
       "      <td>97522e57-d9ab-4bd6-97bf-c24d952602d2</td>\n",
       "      <td>NaN</td>\n",
       "      <td>NaN</td>\n",
       "      <td>2021-04-22 15:17:15</td>\n",
       "    </tr>\n",
       "    <tr>\n",
       "      <th>1</th>\n",
       "      <td>1</td>\n",
       "      <td>97522e57-d9ab-4bd6-97bf-c24d952602d2</td>\n",
       "      <td>5d454588-283d-459d-915d-c48a2cb4c27f</td>\n",
       "      <td>disgust</td>\n",
       "      <td>2020-11-07 09:43:50</td>\n",
       "    </tr>\n",
       "    <tr>\n",
       "      <th>2</th>\n",
       "      <td>2</td>\n",
       "      <td>97522e57-d9ab-4bd6-97bf-c24d952602d2</td>\n",
       "      <td>92b87fa5-f271-43e0-af66-84fac21052e6</td>\n",
       "      <td>dislike</td>\n",
       "      <td>2021-06-17 12:22:51</td>\n",
       "    </tr>\n",
       "    <tr>\n",
       "      <th>3</th>\n",
       "      <td>3</td>\n",
       "      <td>97522e57-d9ab-4bd6-97bf-c24d952602d2</td>\n",
       "      <td>163daa38-8b77-48c9-9af6-37a6c1447ac2</td>\n",
       "      <td>scared</td>\n",
       "      <td>2021-04-18 05:13:58</td>\n",
       "    </tr>\n",
       "    <tr>\n",
       "      <th>4</th>\n",
       "      <td>4</td>\n",
       "      <td>97522e57-d9ab-4bd6-97bf-c24d952602d2</td>\n",
       "      <td>34e8add9-0206-47fd-a501-037b994650a2</td>\n",
       "      <td>disgust</td>\n",
       "      <td>2021-01-06 19:13:01</td>\n",
       "    </tr>\n",
       "    <tr>\n",
       "      <th>5</th>\n",
       "      <td>5</td>\n",
       "      <td>97522e57-d9ab-4bd6-97bf-c24d952602d2</td>\n",
       "      <td>9b6d35f9-5e15-4cd0-a8d7-b1f3340e02c4</td>\n",
       "      <td>interested</td>\n",
       "      <td>2020-08-23 12:25:58</td>\n",
       "    </tr>\n",
       "    <tr>\n",
       "      <th>6</th>\n",
       "      <td>6</td>\n",
       "      <td>97522e57-d9ab-4bd6-97bf-c24d952602d2</td>\n",
       "      <td>7918d465-0953-4f20-9e28-539e74c82e2f</td>\n",
       "      <td>peeking</td>\n",
       "      <td>2020-12-07 06:27:54</td>\n",
       "    </tr>\n",
       "    <tr>\n",
       "      <th>7</th>\n",
       "      <td>7</td>\n",
       "      <td>97522e57-d9ab-4bd6-97bf-c24d952602d2</td>\n",
       "      <td>fa3e42f0-71d8-455f-b024-e52d5c27a145</td>\n",
       "      <td>cherish</td>\n",
       "      <td>2021-04-11 17:35:49</td>\n",
       "    </tr>\n",
       "    <tr>\n",
       "      <th>8</th>\n",
       "      <td>8</td>\n",
       "      <td>97522e57-d9ab-4bd6-97bf-c24d952602d2</td>\n",
       "      <td>b0c22f82-b882-4394-bf27-6dfadf26e5c2</td>\n",
       "      <td>hate</td>\n",
       "      <td>2021-01-27 08:32:09</td>\n",
       "    </tr>\n",
       "    <tr>\n",
       "      <th>9</th>\n",
       "      <td>9</td>\n",
       "      <td>97522e57-d9ab-4bd6-97bf-c24d952602d2</td>\n",
       "      <td>1932a904-86ba-4438-bb52-b7e6516a4019</td>\n",
       "      <td>peeking</td>\n",
       "      <td>2021-04-01 22:54:23</td>\n",
       "    </tr>\n",
       "    <tr>\n",
       "      <th>10</th>\n",
       "      <td>10</td>\n",
       "      <td>97522e57-d9ab-4bd6-97bf-c24d952602d2</td>\n",
       "      <td>NaN</td>\n",
       "      <td>love</td>\n",
       "      <td>2020-08-04 05:05:02</td>\n",
       "    </tr>\n",
       "    <tr>\n",
       "      <th>11</th>\n",
       "      <td>11</td>\n",
       "      <td>97522e57-d9ab-4bd6-97bf-c24d952602d2</td>\n",
       "      <td>f50ac030-3af8-4e07-aacf-dccff353b8f6</td>\n",
       "      <td>indifferent</td>\n",
       "      <td>2020-11-07 08:36:27</td>\n",
       "    </tr>\n",
       "    <tr>\n",
       "      <th>12</th>\n",
       "      <td>12</td>\n",
       "      <td>97522e57-d9ab-4bd6-97bf-c24d952602d2</td>\n",
       "      <td>b09e3125-2162-443b-bea0-25895b7605bc</td>\n",
       "      <td>scared</td>\n",
       "      <td>2020-11-02 06:28:53</td>\n",
       "    </tr>\n",
       "    <tr>\n",
       "      <th>13</th>\n",
       "      <td>13</td>\n",
       "      <td>97522e57-d9ab-4bd6-97bf-c24d952602d2</td>\n",
       "      <td>b143cd2b-20b1-4e9c-9bb7-cfb359b33d01</td>\n",
       "      <td>interested</td>\n",
       "      <td>2020-11-01 01:16:21</td>\n",
       "    </tr>\n",
       "    <tr>\n",
       "      <th>14</th>\n",
       "      <td>14</td>\n",
       "      <td>97522e57-d9ab-4bd6-97bf-c24d952602d2</td>\n",
       "      <td>48e834aa-fd4a-4206-93e8-ac8fdac613bc</td>\n",
       "      <td>hate</td>\n",
       "      <td>2020-10-07 18:39:08</td>\n",
       "    </tr>\n",
       "  </tbody>\n",
       "</table>\n",
       "</div>"
      ],
      "text/plain": [
       "    Unnamed: 0                            Content ID  \\\n",
       "0            0  97522e57-d9ab-4bd6-97bf-c24d952602d2   \n",
       "1            1  97522e57-d9ab-4bd6-97bf-c24d952602d2   \n",
       "2            2  97522e57-d9ab-4bd6-97bf-c24d952602d2   \n",
       "3            3  97522e57-d9ab-4bd6-97bf-c24d952602d2   \n",
       "4            4  97522e57-d9ab-4bd6-97bf-c24d952602d2   \n",
       "5            5  97522e57-d9ab-4bd6-97bf-c24d952602d2   \n",
       "6            6  97522e57-d9ab-4bd6-97bf-c24d952602d2   \n",
       "7            7  97522e57-d9ab-4bd6-97bf-c24d952602d2   \n",
       "8            8  97522e57-d9ab-4bd6-97bf-c24d952602d2   \n",
       "9            9  97522e57-d9ab-4bd6-97bf-c24d952602d2   \n",
       "10          10  97522e57-d9ab-4bd6-97bf-c24d952602d2   \n",
       "11          11  97522e57-d9ab-4bd6-97bf-c24d952602d2   \n",
       "12          12  97522e57-d9ab-4bd6-97bf-c24d952602d2   \n",
       "13          13  97522e57-d9ab-4bd6-97bf-c24d952602d2   \n",
       "14          14  97522e57-d9ab-4bd6-97bf-c24d952602d2   \n",
       "\n",
       "                                 User ID         Type             Datetime  \n",
       "0                                    NaN          NaN  2021-04-22 15:17:15  \n",
       "1   5d454588-283d-459d-915d-c48a2cb4c27f      disgust  2020-11-07 09:43:50  \n",
       "2   92b87fa5-f271-43e0-af66-84fac21052e6      dislike  2021-06-17 12:22:51  \n",
       "3   163daa38-8b77-48c9-9af6-37a6c1447ac2       scared  2021-04-18 05:13:58  \n",
       "4   34e8add9-0206-47fd-a501-037b994650a2      disgust  2021-01-06 19:13:01  \n",
       "5   9b6d35f9-5e15-4cd0-a8d7-b1f3340e02c4   interested  2020-08-23 12:25:58  \n",
       "6   7918d465-0953-4f20-9e28-539e74c82e2f      peeking  2020-12-07 06:27:54  \n",
       "7   fa3e42f0-71d8-455f-b024-e52d5c27a145      cherish  2021-04-11 17:35:49  \n",
       "8   b0c22f82-b882-4394-bf27-6dfadf26e5c2         hate  2021-01-27 08:32:09  \n",
       "9   1932a904-86ba-4438-bb52-b7e6516a4019      peeking  2021-04-01 22:54:23  \n",
       "10                                   NaN         love  2020-08-04 05:05:02  \n",
       "11  f50ac030-3af8-4e07-aacf-dccff353b8f6  indifferent  2020-11-07 08:36:27  \n",
       "12  b09e3125-2162-443b-bea0-25895b7605bc       scared  2020-11-02 06:28:53  \n",
       "13  b143cd2b-20b1-4e9c-9bb7-cfb359b33d01   interested  2020-11-01 01:16:21  \n",
       "14  48e834aa-fd4a-4206-93e8-ac8fdac613bc         hate  2020-10-07 18:39:08  "
      ]
     },
     "execution_count": 16,
     "metadata": {},
     "output_type": "execute_result"
    }
   ],
   "source": [
    "# Explore first 15 rows\n",
    "\n",
    "reactions.head(15)\n"
   ]
  },
  {
   "cell_type": "code",
   "execution_count": 17,
   "id": "149c59ae",
   "metadata": {},
   "outputs": [
    {
     "name": "stdout",
     "output_type": "stream",
     "text": [
      "<class 'pandas.core.frame.DataFrame'>\n",
      "RangeIndex: 25553 entries, 0 to 25552\n",
      "Data columns (total 5 columns):\n",
      " #   Column      Non-Null Count  Dtype \n",
      "---  ------      --------------  ----- \n",
      " 0   Unnamed: 0  25553 non-null  int64 \n",
      " 1   Content ID  25553 non-null  object\n",
      " 2   User ID     22534 non-null  object\n",
      " 3   Type        24573 non-null  object\n",
      " 4   Datetime    25553 non-null  object\n",
      "dtypes: int64(1), object(4)\n",
      "memory usage: 998.3+ KB\n"
     ]
    }
   ],
   "source": [
    "# Explore attributes\n",
    "\n",
    "reactions.info()"
   ]
  },
  {
   "cell_type": "code",
   "execution_count": 18,
   "id": "5320ed3f",
   "metadata": {},
   "outputs": [
    {
     "data": {
      "text/plain": [
       "Type\n",
       "heart          1622\n",
       "scared         1572\n",
       "peeking        1559\n",
       "hate           1552\n",
       "interested     1549\n",
       "dislike        1548\n",
       "adore          1548\n",
       "want           1539\n",
       "love           1534\n",
       "disgust        1526\n",
       "like           1520\n",
       "super love     1519\n",
       "indifferent    1512\n",
       "cherish        1501\n",
       "worried        1497\n",
       "intrigued      1475\n",
       "Name: count, dtype: int64"
      ]
     },
     "execution_count": 18,
     "metadata": {},
     "output_type": "execute_result"
    }
   ],
   "source": [
    "# Check Type values\n",
    "\n",
    "reactions.Type.value_counts()"
   ]
  },
  {
   "cell_type": "code",
   "execution_count": 19,
   "id": "e9baf776",
   "metadata": {},
   "outputs": [],
   "source": [
    "# Drop null values on Type column. Nulls on User ID will be dropped with the column\n",
    "\n",
    "reactions.dropna(subset= ['Type'], how='any', ignore_index=True, inplace=True)\n"
   ]
  },
  {
   "cell_type": "code",
   "execution_count": 20,
   "id": "55fc90e5",
   "metadata": {},
   "outputs": [],
   "source": [
    "# Drop unnecessary column\n",
    "\n",
    "reactions_df = reactions.drop(['Unnamed: 0', 'User ID'], axis=1)"
   ]
  },
  {
   "cell_type": "code",
   "execution_count": 21,
   "id": "9800118c",
   "metadata": {},
   "outputs": [],
   "source": [
    "# Rename columns\n",
    "\n",
    "reactions_df.rename(columns={'Content ID':'content_id', 'Type':'reaction_type', \n",
    "                             'Datetime':'datetime'}, inplace=True)"
   ]
  },
  {
   "cell_type": "markdown",
   "id": "ce486136",
   "metadata": {},
   "source": [
    "### Reaction Types Data set"
   ]
  },
  {
   "cell_type": "code",
   "execution_count": 23,
   "id": "a5a7d3da",
   "metadata": {},
   "outputs": [],
   "source": [
    "# Load Reaction Types data set\n",
    "\n",
    "reaction_types = pd.read_csv(r\"C:\\Users\\user\\Downloads\\ReactionTypes.csv\")"
   ]
  },
  {
   "cell_type": "code",
   "execution_count": 24,
   "id": "13d1afdf",
   "metadata": {},
   "outputs": [
    {
     "data": {
      "text/plain": [
       "(16, 4)"
      ]
     },
     "execution_count": 24,
     "metadata": {},
     "output_type": "execute_result"
    }
   ],
   "source": [
    "# Explore data set\n",
    "\n",
    "reaction_types.shape"
   ]
  },
  {
   "cell_type": "code",
   "execution_count": 25,
   "id": "91754cec",
   "metadata": {},
   "outputs": [
    {
     "data": {
      "text/html": [
       "<div>\n",
       "<style scoped>\n",
       "    .dataframe tbody tr th:only-of-type {\n",
       "        vertical-align: middle;\n",
       "    }\n",
       "\n",
       "    .dataframe tbody tr th {\n",
       "        vertical-align: top;\n",
       "    }\n",
       "\n",
       "    .dataframe thead th {\n",
       "        text-align: right;\n",
       "    }\n",
       "</style>\n",
       "<table border=\"1\" class=\"dataframe\">\n",
       "  <thead>\n",
       "    <tr style=\"text-align: right;\">\n",
       "      <th></th>\n",
       "      <th>Unnamed: 0</th>\n",
       "      <th>Type</th>\n",
       "      <th>Sentiment</th>\n",
       "      <th>Score</th>\n",
       "    </tr>\n",
       "  </thead>\n",
       "  <tbody>\n",
       "    <tr>\n",
       "      <th>0</th>\n",
       "      <td>0</td>\n",
       "      <td>heart</td>\n",
       "      <td>positive</td>\n",
       "      <td>60</td>\n",
       "    </tr>\n",
       "    <tr>\n",
       "      <th>1</th>\n",
       "      <td>1</td>\n",
       "      <td>want</td>\n",
       "      <td>positive</td>\n",
       "      <td>70</td>\n",
       "    </tr>\n",
       "    <tr>\n",
       "      <th>2</th>\n",
       "      <td>2</td>\n",
       "      <td>disgust</td>\n",
       "      <td>negative</td>\n",
       "      <td>0</td>\n",
       "    </tr>\n",
       "    <tr>\n",
       "      <th>3</th>\n",
       "      <td>3</td>\n",
       "      <td>hate</td>\n",
       "      <td>negative</td>\n",
       "      <td>5</td>\n",
       "    </tr>\n",
       "    <tr>\n",
       "      <th>4</th>\n",
       "      <td>4</td>\n",
       "      <td>interested</td>\n",
       "      <td>positive</td>\n",
       "      <td>30</td>\n",
       "    </tr>\n",
       "    <tr>\n",
       "      <th>5</th>\n",
       "      <td>5</td>\n",
       "      <td>indifferent</td>\n",
       "      <td>neutral</td>\n",
       "      <td>20</td>\n",
       "    </tr>\n",
       "    <tr>\n",
       "      <th>6</th>\n",
       "      <td>6</td>\n",
       "      <td>love</td>\n",
       "      <td>positive</td>\n",
       "      <td>65</td>\n",
       "    </tr>\n",
       "    <tr>\n",
       "      <th>7</th>\n",
       "      <td>7</td>\n",
       "      <td>super love</td>\n",
       "      <td>positive</td>\n",
       "      <td>75</td>\n",
       "    </tr>\n",
       "    <tr>\n",
       "      <th>8</th>\n",
       "      <td>8</td>\n",
       "      <td>cherish</td>\n",
       "      <td>positive</td>\n",
       "      <td>70</td>\n",
       "    </tr>\n",
       "    <tr>\n",
       "      <th>9</th>\n",
       "      <td>9</td>\n",
       "      <td>adore</td>\n",
       "      <td>positive</td>\n",
       "      <td>72</td>\n",
       "    </tr>\n",
       "    <tr>\n",
       "      <th>10</th>\n",
       "      <td>10</td>\n",
       "      <td>like</td>\n",
       "      <td>positive</td>\n",
       "      <td>50</td>\n",
       "    </tr>\n",
       "    <tr>\n",
       "      <th>11</th>\n",
       "      <td>11</td>\n",
       "      <td>dislike</td>\n",
       "      <td>negative</td>\n",
       "      <td>10</td>\n",
       "    </tr>\n",
       "    <tr>\n",
       "      <th>12</th>\n",
       "      <td>12</td>\n",
       "      <td>intrigued</td>\n",
       "      <td>positive</td>\n",
       "      <td>45</td>\n",
       "    </tr>\n",
       "    <tr>\n",
       "      <th>13</th>\n",
       "      <td>13</td>\n",
       "      <td>peeking</td>\n",
       "      <td>neutral</td>\n",
       "      <td>35</td>\n",
       "    </tr>\n",
       "    <tr>\n",
       "      <th>14</th>\n",
       "      <td>14</td>\n",
       "      <td>scared</td>\n",
       "      <td>negative</td>\n",
       "      <td>15</td>\n",
       "    </tr>\n",
       "    <tr>\n",
       "      <th>15</th>\n",
       "      <td>15</td>\n",
       "      <td>worried</td>\n",
       "      <td>negative</td>\n",
       "      <td>12</td>\n",
       "    </tr>\n",
       "  </tbody>\n",
       "</table>\n",
       "</div>"
      ],
      "text/plain": [
       "    Unnamed: 0         Type Sentiment  Score\n",
       "0            0        heart  positive     60\n",
       "1            1         want  positive     70\n",
       "2            2      disgust  negative      0\n",
       "3            3         hate  negative      5\n",
       "4            4   interested  positive     30\n",
       "5            5  indifferent   neutral     20\n",
       "6            6         love  positive     65\n",
       "7            7   super love  positive     75\n",
       "8            8      cherish  positive     70\n",
       "9            9        adore  positive     72\n",
       "10          10         like  positive     50\n",
       "11          11      dislike  negative     10\n",
       "12          12    intrigued  positive     45\n",
       "13          13      peeking   neutral     35\n",
       "14          14       scared  negative     15\n",
       "15          15      worried  negative     12"
      ]
     },
     "execution_count": 25,
     "metadata": {},
     "output_type": "execute_result"
    }
   ],
   "source": [
    "# Explore rows and columns\n",
    "\n",
    "reaction_types\n",
    "\n"
   ]
  },
  {
   "cell_type": "code",
   "execution_count": 26,
   "id": "12c4e660",
   "metadata": {},
   "outputs": [
    {
     "name": "stdout",
     "output_type": "stream",
     "text": [
      "<class 'pandas.core.frame.DataFrame'>\n",
      "RangeIndex: 16 entries, 0 to 15\n",
      "Data columns (total 4 columns):\n",
      " #   Column      Non-Null Count  Dtype \n",
      "---  ------      --------------  ----- \n",
      " 0   Unnamed: 0  16 non-null     int64 \n",
      " 1   Type        16 non-null     object\n",
      " 2   Sentiment   16 non-null     object\n",
      " 3   Score       16 non-null     int64 \n",
      "dtypes: int64(2), object(2)\n",
      "memory usage: 644.0+ bytes\n"
     ]
    }
   ],
   "source": [
    "# Check nulls and data types\n",
    "\n",
    "reaction_types.info()"
   ]
  },
  {
   "cell_type": "code",
   "execution_count": 27,
   "id": "b93c66a5",
   "metadata": {},
   "outputs": [],
   "source": [
    "# Drop unnecessary columns\n",
    "\n",
    "reaction_types_df = reaction_types.drop('Unnamed: 0', axis=1)"
   ]
  },
  {
   "cell_type": "code",
   "execution_count": 28,
   "id": "18acc248",
   "metadata": {},
   "outputs": [],
   "source": [
    "# Rename columns\n",
    "\n",
    "reaction_types_df.rename(columns={'Type':'reaction_type', 'Sentiment':'sentiment', \n",
    "                                  'Score':'score'},inplace = True)"
   ]
  },
  {
   "cell_type": "markdown",
   "id": "fd6c32da",
   "metadata": {},
   "source": [
    "## Merge Data sets"
   ]
  },
  {
   "cell_type": "code",
   "execution_count": 30,
   "id": "7b074e06",
   "metadata": {},
   "outputs": [],
   "source": [
    "# Merge reactions_df to content_df\n",
    "\n",
    "reactions_content_merged = pd.merge(reactions_df, content_df, how='left', on='content_id')"
   ]
  },
  {
   "cell_type": "code",
   "execution_count": 31,
   "id": "8ddf4a61",
   "metadata": {},
   "outputs": [],
   "source": [
    "# Merged reactions_content_merged df to reaction_types_df df\n",
    "\n",
    "full_dataset = pd.merge(reactions_content_merged, reaction_types_df, how='left', on='reaction_type')"
   ]
  },
  {
   "cell_type": "code",
   "execution_count": 32,
   "id": "4f4ac0fd",
   "metadata": {},
   "outputs": [
    {
     "data": {
      "text/html": [
       "<div>\n",
       "<style scoped>\n",
       "    .dataframe tbody tr th:only-of-type {\n",
       "        vertical-align: middle;\n",
       "    }\n",
       "\n",
       "    .dataframe tbody tr th {\n",
       "        vertical-align: top;\n",
       "    }\n",
       "\n",
       "    .dataframe thead th {\n",
       "        text-align: right;\n",
       "    }\n",
       "</style>\n",
       "<table border=\"1\" class=\"dataframe\">\n",
       "  <thead>\n",
       "    <tr style=\"text-align: right;\">\n",
       "      <th></th>\n",
       "      <th>content_id</th>\n",
       "      <th>reaction_type</th>\n",
       "      <th>datetime</th>\n",
       "      <th>content_type</th>\n",
       "      <th>category</th>\n",
       "      <th>sentiment</th>\n",
       "      <th>score</th>\n",
       "    </tr>\n",
       "  </thead>\n",
       "  <tbody>\n",
       "    <tr>\n",
       "      <th>0</th>\n",
       "      <td>97522e57-d9ab-4bd6-97bf-c24d952602d2</td>\n",
       "      <td>disgust</td>\n",
       "      <td>2020-11-07 09:43:50</td>\n",
       "      <td>photo</td>\n",
       "      <td>studying</td>\n",
       "      <td>negative</td>\n",
       "      <td>0</td>\n",
       "    </tr>\n",
       "    <tr>\n",
       "      <th>1</th>\n",
       "      <td>97522e57-d9ab-4bd6-97bf-c24d952602d2</td>\n",
       "      <td>dislike</td>\n",
       "      <td>2021-06-17 12:22:51</td>\n",
       "      <td>photo</td>\n",
       "      <td>studying</td>\n",
       "      <td>negative</td>\n",
       "      <td>10</td>\n",
       "    </tr>\n",
       "    <tr>\n",
       "      <th>2</th>\n",
       "      <td>97522e57-d9ab-4bd6-97bf-c24d952602d2</td>\n",
       "      <td>scared</td>\n",
       "      <td>2021-04-18 05:13:58</td>\n",
       "      <td>photo</td>\n",
       "      <td>studying</td>\n",
       "      <td>negative</td>\n",
       "      <td>15</td>\n",
       "    </tr>\n",
       "    <tr>\n",
       "      <th>3</th>\n",
       "      <td>97522e57-d9ab-4bd6-97bf-c24d952602d2</td>\n",
       "      <td>disgust</td>\n",
       "      <td>2021-01-06 19:13:01</td>\n",
       "      <td>photo</td>\n",
       "      <td>studying</td>\n",
       "      <td>negative</td>\n",
       "      <td>0</td>\n",
       "    </tr>\n",
       "    <tr>\n",
       "      <th>4</th>\n",
       "      <td>97522e57-d9ab-4bd6-97bf-c24d952602d2</td>\n",
       "      <td>interested</td>\n",
       "      <td>2020-08-23 12:25:58</td>\n",
       "      <td>photo</td>\n",
       "      <td>studying</td>\n",
       "      <td>positive</td>\n",
       "      <td>30</td>\n",
       "    </tr>\n",
       "    <tr>\n",
       "      <th>...</th>\n",
       "      <td>...</td>\n",
       "      <td>...</td>\n",
       "      <td>...</td>\n",
       "      <td>...</td>\n",
       "      <td>...</td>\n",
       "      <td>...</td>\n",
       "      <td>...</td>\n",
       "    </tr>\n",
       "    <tr>\n",
       "      <th>24568</th>\n",
       "      <td>75d6b589-7fae-4a6d-b0d0-752845150e56</td>\n",
       "      <td>dislike</td>\n",
       "      <td>2020-06-27 09:46:48</td>\n",
       "      <td>audio</td>\n",
       "      <td>technology</td>\n",
       "      <td>negative</td>\n",
       "      <td>10</td>\n",
       "    </tr>\n",
       "    <tr>\n",
       "      <th>24569</th>\n",
       "      <td>75d6b589-7fae-4a6d-b0d0-752845150e56</td>\n",
       "      <td>intrigued</td>\n",
       "      <td>2021-02-16 17:17:02</td>\n",
       "      <td>audio</td>\n",
       "      <td>technology</td>\n",
       "      <td>positive</td>\n",
       "      <td>45</td>\n",
       "    </tr>\n",
       "    <tr>\n",
       "      <th>24570</th>\n",
       "      <td>75d6b589-7fae-4a6d-b0d0-752845150e56</td>\n",
       "      <td>interested</td>\n",
       "      <td>2020-09-12 03:54:58</td>\n",
       "      <td>audio</td>\n",
       "      <td>technology</td>\n",
       "      <td>positive</td>\n",
       "      <td>30</td>\n",
       "    </tr>\n",
       "    <tr>\n",
       "      <th>24571</th>\n",
       "      <td>75d6b589-7fae-4a6d-b0d0-752845150e56</td>\n",
       "      <td>worried</td>\n",
       "      <td>2020-11-04 20:08:31</td>\n",
       "      <td>audio</td>\n",
       "      <td>technology</td>\n",
       "      <td>negative</td>\n",
       "      <td>12</td>\n",
       "    </tr>\n",
       "    <tr>\n",
       "      <th>24572</th>\n",
       "      <td>75d6b589-7fae-4a6d-b0d0-752845150e56</td>\n",
       "      <td>cherish</td>\n",
       "      <td>2021-01-04 04:55:11</td>\n",
       "      <td>audio</td>\n",
       "      <td>technology</td>\n",
       "      <td>positive</td>\n",
       "      <td>70</td>\n",
       "    </tr>\n",
       "  </tbody>\n",
       "</table>\n",
       "<p>24573 rows × 7 columns</p>\n",
       "</div>"
      ],
      "text/plain": [
       "                                 content_id reaction_type  \\\n",
       "0      97522e57-d9ab-4bd6-97bf-c24d952602d2       disgust   \n",
       "1      97522e57-d9ab-4bd6-97bf-c24d952602d2       dislike   \n",
       "2      97522e57-d9ab-4bd6-97bf-c24d952602d2        scared   \n",
       "3      97522e57-d9ab-4bd6-97bf-c24d952602d2       disgust   \n",
       "4      97522e57-d9ab-4bd6-97bf-c24d952602d2    interested   \n",
       "...                                     ...           ...   \n",
       "24568  75d6b589-7fae-4a6d-b0d0-752845150e56       dislike   \n",
       "24569  75d6b589-7fae-4a6d-b0d0-752845150e56     intrigued   \n",
       "24570  75d6b589-7fae-4a6d-b0d0-752845150e56    interested   \n",
       "24571  75d6b589-7fae-4a6d-b0d0-752845150e56       worried   \n",
       "24572  75d6b589-7fae-4a6d-b0d0-752845150e56       cherish   \n",
       "\n",
       "                  datetime content_type    category sentiment  score  \n",
       "0      2020-11-07 09:43:50        photo    studying  negative      0  \n",
       "1      2021-06-17 12:22:51        photo    studying  negative     10  \n",
       "2      2021-04-18 05:13:58        photo    studying  negative     15  \n",
       "3      2021-01-06 19:13:01        photo    studying  negative      0  \n",
       "4      2020-08-23 12:25:58        photo    studying  positive     30  \n",
       "...                    ...          ...         ...       ...    ...  \n",
       "24568  2020-06-27 09:46:48        audio  technology  negative     10  \n",
       "24569  2021-02-16 17:17:02        audio  technology  positive     45  \n",
       "24570  2020-09-12 03:54:58        audio  technology  positive     30  \n",
       "24571  2020-11-04 20:08:31        audio  technology  negative     12  \n",
       "24572  2021-01-04 04:55:11        audio  technology  positive     70  \n",
       "\n",
       "[24573 rows x 7 columns]"
      ]
     },
     "execution_count": 32,
     "metadata": {},
     "output_type": "execute_result"
    }
   ],
   "source": [
    "full_dataset"
   ]
  },
  {
   "cell_type": "code",
   "execution_count": 33,
   "id": "cb1e215f",
   "metadata": {
    "scrolled": false
   },
   "outputs": [
    {
     "data": {
      "text/plain": [
       "content_id       0\n",
       "reaction_type    0\n",
       "datetime         0\n",
       "content_type     0\n",
       "category         0\n",
       "sentiment        0\n",
       "score            0\n",
       "dtype: int64"
      ]
     },
     "execution_count": 33,
     "metadata": {},
     "output_type": "execute_result"
    }
   ],
   "source": [
    "# Check for null values after merging\n",
    "\n",
    "full_dataset.isnull().sum()"
   ]
  },
  {
   "cell_type": "code",
   "execution_count": 35,
   "id": "7c442292",
   "metadata": {},
   "outputs": [],
   "source": [
    "# Obtain top 5 categories \n",
    "top_5_categories = full_dataset.groupby('category').agg(\n",
    "    total_score =('score', 'sum')).reset_index().sort_values(by='total_score',\n",
    "                                                            ascending=False).head(5)\n",
    "\n"
   ]
  },
  {
   "cell_type": "code",
   "execution_count": 36,
   "id": "e5e3352e",
   "metadata": {},
   "outputs": [
    {
     "data": {
      "text/html": [
       "<div>\n",
       "<style scoped>\n",
       "    .dataframe tbody tr th:only-of-type {\n",
       "        vertical-align: middle;\n",
       "    }\n",
       "\n",
       "    .dataframe tbody tr th {\n",
       "        vertical-align: top;\n",
       "    }\n",
       "\n",
       "    .dataframe thead th {\n",
       "        text-align: right;\n",
       "    }\n",
       "</style>\n",
       "<table border=\"1\" class=\"dataframe\">\n",
       "  <thead>\n",
       "    <tr style=\"text-align: right;\">\n",
       "      <th></th>\n",
       "      <th>category</th>\n",
       "      <th>total_score</th>\n",
       "    </tr>\n",
       "  </thead>\n",
       "  <tbody>\n",
       "    <tr>\n",
       "      <th>0</th>\n",
       "      <td>animals</td>\n",
       "      <td>74965</td>\n",
       "    </tr>\n",
       "    <tr>\n",
       "      <th>9</th>\n",
       "      <td>science</td>\n",
       "      <td>71168</td>\n",
       "    </tr>\n",
       "    <tr>\n",
       "      <th>7</th>\n",
       "      <td>healthy_eating</td>\n",
       "      <td>69339</td>\n",
       "    </tr>\n",
       "    <tr>\n",
       "      <th>12</th>\n",
       "      <td>technology</td>\n",
       "      <td>68738</td>\n",
       "    </tr>\n",
       "    <tr>\n",
       "      <th>6</th>\n",
       "      <td>food</td>\n",
       "      <td>66676</td>\n",
       "    </tr>\n",
       "  </tbody>\n",
       "</table>\n",
       "</div>"
      ],
      "text/plain": [
       "          category  total_score\n",
       "0          animals        74965\n",
       "9          science        71168\n",
       "7   healthy_eating        69339\n",
       "12      technology        68738\n",
       "6             food        66676"
      ]
     },
     "execution_count": 36,
     "metadata": {},
     "output_type": "execute_result"
    }
   ],
   "source": [
    "top_5_categories"
   ]
  },
  {
   "cell_type": "markdown",
   "id": "ab2ebc0b",
   "metadata": {},
   "source": [
    "## Analysis"
   ]
  },
  {
   "cell_type": "code",
   "execution_count": 46,
   "id": "59f8ef73",
   "metadata": {},
   "outputs": [
    {
     "data": {
      "image/png": "[encoded data removed]",
      "text/plain": [
       "<Figure size 800x400 with 1 Axes>"
      ]
     },
     "metadata": {},
     "output_type": "display_data"
    }
   ],
   "source": [
    "# Bar chart of Top 5 categories\n",
    "\n",
    "fig1, ax = plt.subplots(figsize=(8,4))\n",
    "\n",
    "ax.barh('category', 'total_score', data=top_5_categories.sort_values(by=\"total_score\"), \n",
    "        label='category', color=['blue'])\n",
    "ax.set_title(\"Top 5 categories\")\n",
    "ax.set_ylabel(\"Categories\")\n",
    "ax.set_xlabel(\"Aggregate scores\")\n",
    "\n",
    "plt.grid(axis='y')\n",
    "plt.tight_layout()\n",
    "plt.show()"
   ]
  },
  {
   "cell_type": "code",
   "execution_count": 98,
   "id": "cccdc1e2",
   "metadata": {},
   "outputs": [
    {
     "data": {
      "image/png": "[encoded data removed]",
      "text/plain": [
       "<Figure size 640x480 with 1 Axes>"
      ]
     },
     "metadata": {},
     "output_type": "display_data"
    }
   ],
   "source": [
    "# Percentages of each category in the top five categories\n",
    "\n",
    "fig2, ax = plt.subplots()\n",
    "\n",
    "scores = [score for score in top_5_categories['total_score']]\n",
    "categories = [category for category in top_5_categories['category']]\n",
    "explode = [0.1, 0, 0, 0, 0]\n",
    "colors =['#f4dc4d', '#dba21b', '#7555db', '#002eab', '#990f2a']\n",
    "\n",
    "\n",
    "ax.pie(scores, labels=categories, autopct='%1.1f%%', \n",
    "       startangle =90, explode=explode, colors =colors,\n",
    "       textprops ={'fontsize':11}, shadow=True)\n",
    "\n",
    "ax.set_title(\"Popularity percentage of the top 5 categories\")\n",
    "\n",
    "plt.tight_layout()\n",
    "plt.show()"
   ]
  },
  {
   "cell_type": "code",
   "execution_count": 96,
   "id": "e8711525",
   "metadata": {},
   "outputs": [
    {
     "data": {
      "image/png": "[encoded data removed]",
      "text/plain": [
       "<Figure size 800x500 with 1 Axes>"
      ]
     },
     "metadata": {},
     "output_type": "display_data"
    }
   ],
   "source": [
    "# Plot categories count \n",
    "\n",
    "fig3,ax=plt.subplots(figsize=(8,5))\n",
    "\n",
    "sns.countplot(x='category', data = full_dataset,\n",
    "              order = full_dataset['category'].value_counts().index)\n",
    "sns.set(rc={'font.size':6})\n",
    "plt.xticks(rotation=90)\n",
    "ax.set_title(\"Category counts\")\n",
    "\n",
    "plt.tight_layout()\n",
    "plt.show()"
   ]
  },
  {
   "cell_type": "code",
   "execution_count": 42,
   "id": "41bdf80c",
   "metadata": {},
   "outputs": [
    {
     "name": "stdout",
     "output_type": "stream",
     "text": [
      "1897\n"
     ]
    }
   ],
   "source": [
    "# Reactions to the most popular category.\n",
    "\n",
    "print(full_dataset.loc[full_dataset['category']=='animals']['reaction_type'].count())\n",
    "\n"
   ]
  },
  {
   "cell_type": "code",
   "execution_count": 43,
   "id": "a2d3882d",
   "metadata": {},
   "outputs": [
    {
     "name": "stdout",
     "output_type": "stream",
     "text": [
      "   month  posts\n",
      "8    May   2138\n",
      "4    Jan   2126\n",
      "1    Aug   2114\n",
      "2    Dec   2092\n",
      "5    Jul   2070\n",
      "10   Oct   2056\n",
      "9    Nov   2034\n",
      "11   Sep   2022\n",
      "6    Jun   2021\n",
      "7    Mar   2012\n",
      "0    Apr   1974\n",
      "3    Feb   1914\n"
     ]
    }
   ],
   "source": [
    "# Month with the most posts\n",
    "\n",
    "# Extract month form datetime column\n",
    "\n",
    "full_dataset['month'] = pd.to_datetime(full_dataset['datetime']).dt.strftime('%b')\n",
    "\n",
    "# Group count of content_id according to month\n",
    "\n",
    "month_posts = full_dataset.groupby('month').agg(\n",
    "    posts = ('content_id', 'count')\n",
    ").reset_index().sort_values(by='posts', ascending=False)\n",
    "\n",
    "print(month_posts)"
   ]
  },
  {
   "cell_type": "code",
   "execution_count": 44,
   "id": "438409b2",
   "metadata": {},
   "outputs": [
    {
     "data": {
      "image/png": "[encoded data removed]",
      "text/plain": [
       "<Figure size 800x380 with 1 Axes>"
      ]
     },
     "metadata": {},
     "output_type": "display_data"
    }
   ],
   "source": [
    "# Countplot of posts per month\n",
    "\n",
    "fig4, ax = plt.subplots(figsize=(8,3.8))\n",
    "\n",
    "sns.countplot(x='month', data=full_dataset,\n",
    "             order = full_dataset['month'].value_counts().index)\n",
    "ax.set_title(\"Posts by month\")\n",
    "ax.set_xlabel(\"Month\")\n",
    "ax.set_ylabel('Posts')\n",
    "\n",
    "plt.tight_layout()\n",
    "plt.show()"
   ]
  },
  {
   "cell_type": "code",
   "execution_count": null,
   "id": "c8a62e7b",
   "metadata": {},
   "outputs": [],
   "source": []
  }
 ],
 "metadata": {
  "kernelspec": {
   "display_name": "Python 3 (ipykernel)",
   "language": "python",
   "name": "python3"
  },
  "language_info": {
   "codemirror_mode": {
    "name": "ipython",
    "version": 3
   },
   "file_extension": ".py",
   "mimetype": "text/x-python",
   "name": "python",
   "nbconvert_exporter": "python",
   "pygments_lexer": "ipython3",
   "version": "3.11.5"
  }
 },
 "nbformat": 4,
 "nbformat_minor": 5
}
